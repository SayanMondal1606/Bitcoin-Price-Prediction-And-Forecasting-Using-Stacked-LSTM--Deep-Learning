{
 "cells": [
  {
   "cell_type": "code",
   "execution_count": 1,
   "id": "0fa9f717",
   "metadata": {},
   "outputs": [],
   "source": [
    "import pandas as pd\n",
    "data = pd.read_csv(r\"C:\\Users\\Sayan Mondal\\Downloads\\Bitcoin Historical Data.csv\")"
   ]
  },
  {
   "cell_type": "code",
   "execution_count": 2,
   "id": "9eec1e44",
   "metadata": {},
   "outputs": [],
   "source": [
    "df=data.copy()"
   ]
  },
  {
   "cell_type": "code",
   "execution_count": 3,
   "id": "54ba667c",
   "metadata": {},
   "outputs": [],
   "source": [
    "# Convert 'Date' column to datetime format\n",
    "df['Date'] = pd.to_datetime(df['Date'], format='%d-%m-%Y')\n",
    "\n",
    "# Convert numeric columns with commas to float\n",
    "numeric_columns = ['Price', 'Open', 'High', 'Low']\n",
    "for col in numeric_columns:\n",
    "    df[col] = df[col].str.replace(',', '').astype(float)\n",
    "\n",
    "# Remove '%' sign and convert 'Change %' column to float\n",
    "df['Change %'] = df['Change %'].str.rstrip('%').astype(float)\n",
    "\n",
    "\n"
   ]
  },
  {
   "cell_type": "code",
   "execution_count": 4,
   "id": "0ec9e18f",
   "metadata": {},
   "outputs": [
    {
     "name": "stdout",
     "output_type": "stream",
     "text": [
      "           Date    Price     Open     High      Low      Vol.  Change %\n",
      "0    2024-03-23  63522.8  63785.6  64324.3  63074.9   70980.0     -0.41\n",
      "1    2024-03-22  63785.5  65501.5  66633.3  62328.3   72430.0     -2.62\n",
      "2    2024-03-21  65503.8  67860.0  68161.7  64616.1   75260.0     -3.46\n",
      "3    2024-03-20  67854.0  62046.8  68029.5  60850.9  133530.0      9.35\n",
      "4    2024-03-19  62050.0  67594.1  68099.6  61560.6  148080.0     -8.20\n",
      "...         ...      ...      ...      ...      ...       ...       ...\n",
      "2269 2018-01-05  16954.8  15180.1  17126.9  14832.4  141960.0     11.69\n",
      "2270 2018-01-04  15180.1  15156.5  15408.7  14244.7  110970.0      0.15\n",
      "2271 2018-01-03  15156.6  14754.1  15435.0  14579.7  106540.0      2.73\n",
      "2272 2018-01-02  14754.1  13444.9  15306.1  12934.2  137730.0      9.74\n",
      "2273 2018-01-01  13444.9  13850.5  13921.5  12877.7   78430.0     -2.93\n",
      "\n",
      "[2274 rows x 7 columns]\n"
     ]
    }
   ],
   "source": [
    "# Convert 'Vol.' column to numeric (handles 'K', 'M', and 'B' suffixes)\n",
    "def convert_vol(value):\n",
    "    multiplier = 1\n",
    "    if 'K' in value:\n",
    "        multiplier = 1000\n",
    "    elif 'M' in value:\n",
    "        multiplier = 1000000\n",
    "    elif 'B' in value:\n",
    "        multiplier = 1000000000\n",
    "    return float(value.replace('K', '').replace('M', '').replace('B', '')) * multiplier\n",
    "\n",
    "df['Vol.'] = df['Vol.'].apply(convert_vol)\n",
    "\n",
    "# Print the DataFrame with updated 'Vol.' column\n",
    "print(df)\n"
   ]
  },
  {
   "cell_type": "code",
   "execution_count": 5,
   "id": "32b85d1a",
   "metadata": {},
   "outputs": [],
   "source": [
    "df['Price'] = df['Price'].astype('int64')"
   ]
  },
  {
   "cell_type": "code",
   "execution_count": 6,
   "id": "7fa0bb7a",
   "metadata": {},
   "outputs": [
    {
     "data": {
      "text/plain": [
       "0       63522\n",
       "1       63785\n",
       "2       65503\n",
       "3       67854\n",
       "4       62050\n",
       "        ...  \n",
       "2269    16954\n",
       "2270    15180\n",
       "2271    15156\n",
       "2272    14754\n",
       "2273    13444\n",
       "Name: Price, Length: 2274, dtype: int64"
      ]
     },
     "execution_count": 6,
     "metadata": {},
     "output_type": "execute_result"
    }
   ],
   "source": [
    "df['Price']"
   ]
  },
  {
   "cell_type": "code",
   "execution_count": 7,
   "id": "b9630d54",
   "metadata": {},
   "outputs": [],
   "source": [
    "# Convert numeric columns with commas to float\n",
    "numeric_columns = ['Price', 'Open', 'High', 'Low']\n",
    "for col in numeric_columns:\n",
    "    df[col] = df[col].astype('int64')"
   ]
  },
  {
   "cell_type": "code",
   "execution_count": 8,
   "id": "b2d8e2b1",
   "metadata": {},
   "outputs": [
    {
     "data": {
      "text/html": [
       "<div>\n",
       "<style scoped>\n",
       "    .dataframe tbody tr th:only-of-type {\n",
       "        vertical-align: middle;\n",
       "    }\n",
       "\n",
       "    .dataframe tbody tr th {\n",
       "        vertical-align: top;\n",
       "    }\n",
       "\n",
       "    .dataframe thead th {\n",
       "        text-align: right;\n",
       "    }\n",
       "</style>\n",
       "<table border=\"1\" class=\"dataframe\">\n",
       "  <thead>\n",
       "    <tr style=\"text-align: right;\">\n",
       "      <th></th>\n",
       "      <th>Date</th>\n",
       "      <th>Price</th>\n",
       "      <th>Open</th>\n",
       "      <th>High</th>\n",
       "      <th>Low</th>\n",
       "      <th>Vol.</th>\n",
       "      <th>Change %</th>\n",
       "    </tr>\n",
       "  </thead>\n",
       "  <tbody>\n",
       "    <tr>\n",
       "      <th>0</th>\n",
       "      <td>2024-03-23</td>\n",
       "      <td>63522</td>\n",
       "      <td>63785</td>\n",
       "      <td>64324</td>\n",
       "      <td>63074</td>\n",
       "      <td>70980.0</td>\n",
       "      <td>-0.41</td>\n",
       "    </tr>\n",
       "    <tr>\n",
       "      <th>1</th>\n",
       "      <td>2024-03-22</td>\n",
       "      <td>63785</td>\n",
       "      <td>65501</td>\n",
       "      <td>66633</td>\n",
       "      <td>62328</td>\n",
       "      <td>72430.0</td>\n",
       "      <td>-2.62</td>\n",
       "    </tr>\n",
       "    <tr>\n",
       "      <th>2</th>\n",
       "      <td>2024-03-21</td>\n",
       "      <td>65503</td>\n",
       "      <td>67860</td>\n",
       "      <td>68161</td>\n",
       "      <td>64616</td>\n",
       "      <td>75260.0</td>\n",
       "      <td>-3.46</td>\n",
       "    </tr>\n",
       "    <tr>\n",
       "      <th>3</th>\n",
       "      <td>2024-03-20</td>\n",
       "      <td>67854</td>\n",
       "      <td>62046</td>\n",
       "      <td>68029</td>\n",
       "      <td>60850</td>\n",
       "      <td>133530.0</td>\n",
       "      <td>9.35</td>\n",
       "    </tr>\n",
       "    <tr>\n",
       "      <th>4</th>\n",
       "      <td>2024-03-19</td>\n",
       "      <td>62050</td>\n",
       "      <td>67594</td>\n",
       "      <td>68099</td>\n",
       "      <td>61560</td>\n",
       "      <td>148080.0</td>\n",
       "      <td>-8.20</td>\n",
       "    </tr>\n",
       "    <tr>\n",
       "      <th>...</th>\n",
       "      <td>...</td>\n",
       "      <td>...</td>\n",
       "      <td>...</td>\n",
       "      <td>...</td>\n",
       "      <td>...</td>\n",
       "      <td>...</td>\n",
       "      <td>...</td>\n",
       "    </tr>\n",
       "    <tr>\n",
       "      <th>2269</th>\n",
       "      <td>2018-01-05</td>\n",
       "      <td>16954</td>\n",
       "      <td>15180</td>\n",
       "      <td>17126</td>\n",
       "      <td>14832</td>\n",
       "      <td>141960.0</td>\n",
       "      <td>11.69</td>\n",
       "    </tr>\n",
       "    <tr>\n",
       "      <th>2270</th>\n",
       "      <td>2018-01-04</td>\n",
       "      <td>15180</td>\n",
       "      <td>15156</td>\n",
       "      <td>15408</td>\n",
       "      <td>14244</td>\n",
       "      <td>110970.0</td>\n",
       "      <td>0.15</td>\n",
       "    </tr>\n",
       "    <tr>\n",
       "      <th>2271</th>\n",
       "      <td>2018-01-03</td>\n",
       "      <td>15156</td>\n",
       "      <td>14754</td>\n",
       "      <td>15435</td>\n",
       "      <td>14579</td>\n",
       "      <td>106540.0</td>\n",
       "      <td>2.73</td>\n",
       "    </tr>\n",
       "    <tr>\n",
       "      <th>2272</th>\n",
       "      <td>2018-01-02</td>\n",
       "      <td>14754</td>\n",
       "      <td>13444</td>\n",
       "      <td>15306</td>\n",
       "      <td>12934</td>\n",
       "      <td>137730.0</td>\n",
       "      <td>9.74</td>\n",
       "    </tr>\n",
       "    <tr>\n",
       "      <th>2273</th>\n",
       "      <td>2018-01-01</td>\n",
       "      <td>13444</td>\n",
       "      <td>13850</td>\n",
       "      <td>13921</td>\n",
       "      <td>12877</td>\n",
       "      <td>78430.0</td>\n",
       "      <td>-2.93</td>\n",
       "    </tr>\n",
       "  </tbody>\n",
       "</table>\n",
       "<p>2274 rows × 7 columns</p>\n",
       "</div>"
      ],
      "text/plain": [
       "           Date  Price   Open   High    Low      Vol.  Change %\n",
       "0    2024-03-23  63522  63785  64324  63074   70980.0     -0.41\n",
       "1    2024-03-22  63785  65501  66633  62328   72430.0     -2.62\n",
       "2    2024-03-21  65503  67860  68161  64616   75260.0     -3.46\n",
       "3    2024-03-20  67854  62046  68029  60850  133530.0      9.35\n",
       "4    2024-03-19  62050  67594  68099  61560  148080.0     -8.20\n",
       "...         ...    ...    ...    ...    ...       ...       ...\n",
       "2269 2018-01-05  16954  15180  17126  14832  141960.0     11.69\n",
       "2270 2018-01-04  15180  15156  15408  14244  110970.0      0.15\n",
       "2271 2018-01-03  15156  14754  15435  14579  106540.0      2.73\n",
       "2272 2018-01-02  14754  13444  15306  12934  137730.0      9.74\n",
       "2273 2018-01-01  13444  13850  13921  12877   78430.0     -2.93\n",
       "\n",
       "[2274 rows x 7 columns]"
      ]
     },
     "execution_count": 8,
     "metadata": {},
     "output_type": "execute_result"
    }
   ],
   "source": [
    "df"
   ]
  },
  {
   "cell_type": "code",
   "execution_count": 9,
   "id": "591f8316",
   "metadata": {},
   "outputs": [],
   "source": [
    "df1=df.reset_index()['Price']"
   ]
  },
  {
   "cell_type": "code",
   "execution_count": 10,
   "id": "555cce9e",
   "metadata": {},
   "outputs": [
    {
     "data": {
      "text/plain": [
       "0       63522\n",
       "1       63785\n",
       "2       65503\n",
       "3       67854\n",
       "4       62050\n",
       "        ...  \n",
       "2269    16954\n",
       "2270    15180\n",
       "2271    15156\n",
       "2272    14754\n",
       "2273    13444\n",
       "Name: Price, Length: 2274, dtype: int64"
      ]
     },
     "execution_count": 10,
     "metadata": {},
     "output_type": "execute_result"
    }
   ],
   "source": [
    "df1\n"
   ]
  },
  {
   "cell_type": "code",
   "execution_count": 11,
   "id": "43ee402f",
   "metadata": {},
   "outputs": [
    {
     "data": {
      "text/plain": [
       "[<matplotlib.lines.Line2D at 0x1fb917ba0e0>]"
      ]
     },
     "execution_count": 11,
     "metadata": {},
     "output_type": "execute_result"
    },
    {
     "data": {
      "image/png": "[encoded data removed]",
      "text/plain": [
       "<Figure size 640x480 with 1 Axes>"
      ]
     },
     "metadata": {},
     "output_type": "display_data"
    }
   ],
   "source": [
    "import matplotlib.pyplot as plt\n",
    "plt.plot(df1)"
   ]
  },
  {
   "cell_type": "code",
   "execution_count": 12,
   "id": "07050526",
   "metadata": {},
   "outputs": [],
   "source": [
    "import numpy as np\n",
    "from sklearn.preprocessing import MinMaxScaler\n",
    "scaler=MinMaxScaler(feature_range=(0,1))\n",
    "df1=scaler.fit_transform(np.array(df1).reshape(-1,1))"
   ]
  },
  {
   "cell_type": "code",
   "execution_count": 13,
   "id": "0147ae69",
   "metadata": {},
   "outputs": [
    {
     "data": {
      "text/plain": [
       "array([[0.86334087],\n",
       "       [0.86710673],\n",
       "       [0.89170652],\n",
       "       ...,\n",
       "       [0.17079527],\n",
       "       [0.16503909],\n",
       "       [0.14628139]])"
      ]
     },
     "execution_count": 13,
     "metadata": {},
     "output_type": "execute_result"
    }
   ],
   "source": [
    "df1\n"
   ]
  },
  {
   "cell_type": "code",
   "execution_count": 14,
   "id": "b6a96ad1",
   "metadata": {},
   "outputs": [],
   "source": [
    "\n",
    "##splitting dataset into train and test split\n",
    "training_size=int(len(df1)*0.65)\n",
    "test_size=len(df1)-training_size\n",
    "train_data,test_data=df1[0:training_size,:],df1[training_size:len(df1),:1]"
   ]
  },
  {
   "cell_type": "code",
   "execution_count": 15,
   "id": "2f07adb4",
   "metadata": {},
   "outputs": [
    {
     "data": {
      "text/plain": [
       "(1478, 796)"
      ]
     },
     "execution_count": 15,
     "metadata": {},
     "output_type": "execute_result"
    }
   ],
   "source": [
    "training_size,test_size"
   ]
  },
  {
   "cell_type": "code",
   "execution_count": 16,
   "id": "97b252c9",
   "metadata": {},
   "outputs": [],
   "source": [
    "import numpy\n",
    "# convert an array of values into a dataset matrix\n",
    "def create_dataset(dataset, time_step=1):\n",
    "\tdataX, dataY = [], []\n",
    "\tfor i in range(len(dataset)-time_step-1):\n",
    "\t\ta = dataset[i:(i+time_step), 0]   ###i=0, 0,1,2,3-----99   100 \n",
    "\t\tdataX.append(a)\n",
    "\t\tdataY.append(dataset[i + time_step, 0])\n",
    "\treturn numpy.array(dataX), numpy.array(dataY)"
   ]
  },
  {
   "cell_type": "code",
   "execution_count": 17,
   "id": "0f9ed21e",
   "metadata": {},
   "outputs": [
    {
     "name": "stdout",
     "output_type": "stream",
     "text": [
      "(1377, 100)\n",
      "(1377,)\n"
     ]
    },
    {
     "data": {
      "text/plain": [
       "(None, None)"
      ]
     },
     "execution_count": 17,
     "metadata": {},
     "output_type": "execute_result"
    }
   ],
   "source": [
    "# reshape into X=t,t+1,t+2,t+3 and Y=t+4\n",
    "time_step = 100\n",
    "X_train, y_train = create_dataset(train_data, time_step)\n",
    "X_test, ytest = create_dataset(test_data, time_step)\n",
    "print(X_train.shape), print(y_train.shape)"
   ]
  },
  {
   "cell_type": "code",
   "execution_count": 18,
   "id": "a36209ce",
   "metadata": {},
   "outputs": [
    {
     "name": "stdout",
     "output_type": "stream",
     "text": [
      "(695, 100)\n",
      "(695,)\n"
     ]
    },
    {
     "data": {
      "text/plain": [
       "(None, None)"
      ]
     },
     "execution_count": 18,
     "metadata": {},
     "output_type": "execute_result"
    }
   ],
   "source": [
    "print(X_test.shape), print(ytest.shape)"
   ]
  },
  {
   "cell_type": "code",
   "execution_count": 19,
   "id": "0e905d2d",
   "metadata": {},
   "outputs": [],
   "source": [
    "# reshape input to be [samples, time steps, features] which is required for LSTM\n",
    "X_train =X_train.reshape(X_train.shape[0],X_train.shape[1] , 1)\n",
    "X_test = X_test.reshape(X_test.shape[0],X_test.shape[1] , 1)"
   ]
  },
  {
   "cell_type": "code",
   "execution_count": 23,
   "id": "1883df8f",
   "metadata": {},
   "outputs": [],
   "source": [
    "### Create the Stacked LSTM model\n",
    "from tensorflow.keras.models import Sequential\n",
    "from tensorflow.keras.layers import Dense\n",
    "from tensorflow.keras.layers import LSTM"
   ]
  },
  {
   "cell_type": "code",
   "execution_count": 22,
   "id": "e55fd790",
   "metadata": {},
   "outputs": [],
   "source": [
    "import tensorflow as tf\n",
    "tf.compat.v1.logging.set_verbosity(tf.compat.v1.logging.ERROR)\n"
   ]
  },
  {
   "cell_type": "code",
   "execution_count": 24,
   "id": "9ae499a3",
   "metadata": {},
   "outputs": [],
   "source": [
    "model=Sequential()\n",
    "model.add(LSTM(50,return_sequences=True,input_shape=(100,1)))\n",
    "model.add(LSTM(50,return_sequences=True))\n",
    "model.add(LSTM(50))\n",
    "model.add(Dense(1))\n",
    "model.compile(loss='mean_squared_error',optimizer='adam')"
   ]
  },
  {
   "cell_type": "code",
   "execution_count": 25,
   "id": "208d0a13",
   "metadata": {},
   "outputs": [
    {
     "name": "stdout",
     "output_type": "stream",
     "text": [
      "Model: \"sequential\"\n",
      "_________________________________________________________________\n",
      " Layer (type)                Output Shape              Param #   \n",
      "=================================================================\n",
      " lstm (LSTM)                 (None, 100, 50)           10400     \n",
      "                                                                 \n",
      " lstm_1 (LSTM)               (None, 100, 50)           20200     \n",
      "                                                                 \n",
      " lstm_2 (LSTM)               (None, 50)                20200     \n",
      "                                                                 \n",
      " dense (Dense)               (None, 1)                 51        \n",
      "                                                                 \n",
      "=================================================================\n",
      "Total params: 50851 (198.64 KB)\n",
      "Trainable params: 50851 (198.64 KB)\n",
      "Non-trainable params: 0 (0.00 Byte)\n",
      "_________________________________________________________________\n"
     ]
    }
   ],
   "source": [
    "model.summary()"
   ]
  },
  {
   "cell_type": "code",
   "execution_count": 26,
   "id": "984d2af7",
   "metadata": {},
   "outputs": [
    {
     "name": "stdout",
     "output_type": "stream",
     "text": [
      "Epoch 1/100\n",
      "22/22 [==============================] - 20s 405ms/step - loss: 0.0256 - val_loss: 0.0056\n",
      "Epoch 2/100\n",
      "22/22 [==============================] - 6s 281ms/step - loss: 0.0037 - val_loss: 5.6354e-04\n",
      "Epoch 3/100\n",
      "22/22 [==============================] - 6s 272ms/step - loss: 0.0027 - val_loss: 2.1447e-04\n",
      "Epoch 4/100\n",
      "22/22 [==============================] - 5s 252ms/step - loss: 0.0025 - val_loss: 2.0442e-04\n",
      "Epoch 5/100\n",
      "22/22 [==============================] - 6s 259ms/step - loss: 0.0023 - val_loss: 1.9202e-04\n",
      "Epoch 6/100\n",
      "22/22 [==============================] - 6s 286ms/step - loss: 0.0021 - val_loss: 1.9132e-04\n",
      "Epoch 7/100\n",
      "22/22 [==============================] - 5s 250ms/step - loss: 0.0019 - val_loss: 1.8596e-04\n",
      "Epoch 8/100\n",
      "22/22 [==============================] - 6s 265ms/step - loss: 0.0018 - val_loss: 1.6384e-04\n",
      "Epoch 9/100\n",
      "22/22 [==============================] - 6s 263ms/step - loss: 0.0018 - val_loss: 1.7392e-04\n",
      "Epoch 10/100\n",
      "22/22 [==============================] - 6s 281ms/step - loss: 0.0016 - val_loss: 1.9332e-04\n",
      "Epoch 11/100\n",
      "22/22 [==============================] - 6s 268ms/step - loss: 0.0015 - val_loss: 1.7155e-04\n",
      "Epoch 12/100\n",
      "22/22 [==============================] - 6s 276ms/step - loss: 0.0014 - val_loss: 1.5065e-04\n",
      "Epoch 13/100\n",
      "22/22 [==============================] - 6s 283ms/step - loss: 0.0013 - val_loss: 1.3273e-04\n",
      "Epoch 14/100\n",
      "22/22 [==============================] - 6s 270ms/step - loss: 0.0012 - val_loss: 1.6722e-04\n",
      "Epoch 15/100\n",
      "22/22 [==============================] - 6s 266ms/step - loss: 0.0011 - val_loss: 1.2641e-04\n",
      "Epoch 16/100\n",
      "22/22 [==============================] - 6s 288ms/step - loss: 0.0012 - val_loss: 1.2726e-04\n",
      "Epoch 17/100\n",
      "22/22 [==============================] - 6s 287ms/step - loss: 0.0012 - val_loss: 1.1732e-04\n",
      "Epoch 18/100\n",
      "22/22 [==============================] - 6s 253ms/step - loss: 9.3049e-04 - val_loss: 1.1217e-04\n",
      "Epoch 19/100\n",
      "22/22 [==============================] - 6s 277ms/step - loss: 8.6143e-04 - val_loss: 1.3527e-04\n",
      "Epoch 20/100\n",
      "22/22 [==============================] - 6s 274ms/step - loss: 8.2798e-04 - val_loss: 1.0743e-04\n",
      "Epoch 21/100\n",
      "22/22 [==============================] - 1290s 61s/step - loss: 9.1486e-04 - val_loss: 1.0626e-04\n",
      "Epoch 22/100\n",
      "22/22 [==============================] - 6s 270ms/step - loss: 8.0807e-04 - val_loss: 1.0046e-04\n",
      "Epoch 23/100\n",
      "22/22 [==============================] - 6s 278ms/step - loss: 7.4465e-04 - val_loss: 1.0832e-04\n",
      "Epoch 24/100\n",
      "22/22 [==============================] - 6s 270ms/step - loss: 7.8838e-04 - val_loss: 1.0407e-04\n",
      "Epoch 25/100\n",
      "22/22 [==============================] - 6s 286ms/step - loss: 7.4781e-04 - val_loss: 9.4063e-05\n",
      "Epoch 26/100\n",
      "22/22 [==============================] - 6s 261ms/step - loss: 6.8802e-04 - val_loss: 1.0437e-04\n",
      "Epoch 27/100\n",
      "22/22 [==============================] - 6s 300ms/step - loss: 6.7292e-04 - val_loss: 8.9582e-05\n",
      "Epoch 28/100\n",
      "22/22 [==============================] - 5s 247ms/step - loss: 6.8084e-04 - val_loss: 9.2955e-05\n",
      "Epoch 29/100\n",
      "22/22 [==============================] - 6s 272ms/step - loss: 6.7710e-04 - val_loss: 1.0008e-04\n",
      "Epoch 30/100\n",
      "22/22 [==============================] - 6s 256ms/step - loss: 6.9508e-04 - val_loss: 1.0478e-04\n",
      "Epoch 31/100\n",
      "22/22 [==============================] - 5s 243ms/step - loss: 6.6210e-04 - val_loss: 8.7217e-05\n",
      "Epoch 32/100\n",
      "22/22 [==============================] - 6s 255ms/step - loss: 6.1029e-04 - val_loss: 8.6975e-05\n",
      "Epoch 33/100\n",
      "22/22 [==============================] - 6s 269ms/step - loss: 6.9325e-04 - val_loss: 8.1938e-05\n",
      "Epoch 34/100\n",
      "22/22 [==============================] - 6s 258ms/step - loss: 6.0315e-04 - val_loss: 8.0668e-05\n",
      "Epoch 35/100\n",
      "22/22 [==============================] - 6s 253ms/step - loss: 5.8192e-04 - val_loss: 7.9021e-05\n",
      "Epoch 36/100\n",
      "22/22 [==============================] - 6s 263ms/step - loss: 6.4497e-04 - val_loss: 9.5353e-05\n",
      "Epoch 37/100\n",
      "22/22 [==============================] - 6s 250ms/step - loss: 6.2806e-04 - val_loss: 8.6015e-05\n",
      "Epoch 38/100\n",
      "22/22 [==============================] - 6s 258ms/step - loss: 5.7234e-04 - val_loss: 8.0649e-05\n",
      "Epoch 39/100\n",
      "22/22 [==============================] - 6s 283ms/step - loss: 5.0176e-04 - val_loss: 7.4238e-05\n",
      "Epoch 40/100\n",
      "22/22 [==============================] - 6s 265ms/step - loss: 4.8607e-04 - val_loss: 7.2145e-05\n",
      "Epoch 41/100\n",
      "22/22 [==============================] - 7s 303ms/step - loss: 4.9702e-04 - val_loss: 7.1540e-05\n",
      "Epoch 42/100\n",
      "22/22 [==============================] - 6s 252ms/step - loss: 6.5206e-04 - val_loss: 8.2770e-05\n",
      "Epoch 43/100\n",
      "22/22 [==============================] - 6s 258ms/step - loss: 5.4842e-04 - val_loss: 9.2746e-05\n",
      "Epoch 44/100\n",
      "22/22 [==============================] - 6s 254ms/step - loss: 4.7182e-04 - val_loss: 7.2806e-05\n",
      "Epoch 45/100\n",
      "22/22 [==============================] - 6s 266ms/step - loss: 4.8241e-04 - val_loss: 7.0372e-05\n",
      "Epoch 46/100\n",
      "22/22 [==============================] - 6s 291ms/step - loss: 4.5925e-04 - val_loss: 6.9051e-05\n",
      "Epoch 47/100\n",
      "22/22 [==============================] - 6s 275ms/step - loss: 4.7822e-04 - val_loss: 7.6373e-05\n",
      "Epoch 48/100\n",
      "22/22 [==============================] - 6s 257ms/step - loss: 5.1361e-04 - val_loss: 7.1921e-05\n",
      "Epoch 49/100\n",
      "22/22 [==============================] - 6s 266ms/step - loss: 4.1590e-04 - val_loss: 7.6623e-05\n",
      "Epoch 50/100\n",
      "22/22 [==============================] - 6s 267ms/step - loss: 5.4101e-04 - val_loss: 7.0902e-05\n",
      "Epoch 51/100\n",
      "22/22 [==============================] - 6s 272ms/step - loss: 4.8601e-04 - val_loss: 8.9300e-05\n",
      "Epoch 52/100\n",
      "22/22 [==============================] - 6s 276ms/step - loss: 4.0904e-04 - val_loss: 6.2443e-05\n",
      "Epoch 53/100\n",
      "22/22 [==============================] - 6s 273ms/step - loss: 4.5804e-04 - val_loss: 6.5474e-05\n",
      "Epoch 54/100\n",
      "22/22 [==============================] - 6s 263ms/step - loss: 4.2605e-04 - val_loss: 6.3004e-05\n",
      "Epoch 55/100\n",
      "22/22 [==============================] - 6s 265ms/step - loss: 3.8622e-04 - val_loss: 6.3971e-05\n",
      "Epoch 56/100\n",
      "22/22 [==============================] - 6s 265ms/step - loss: 3.8950e-04 - val_loss: 5.9439e-05\n",
      "Epoch 57/100\n",
      "22/22 [==============================] - 6s 274ms/step - loss: 4.6377e-04 - val_loss: 1.2245e-04\n",
      "Epoch 58/100\n",
      "22/22 [==============================] - 6s 271ms/step - loss: 4.0944e-04 - val_loss: 5.8650e-05\n",
      "Epoch 59/100\n",
      "22/22 [==============================] - 5s 249ms/step - loss: 3.9073e-04 - val_loss: 6.0247e-05\n",
      "Epoch 60/100\n",
      "22/22 [==============================] - 6s 276ms/step - loss: 4.3366e-04 - val_loss: 6.7770e-05\n",
      "Epoch 61/100\n",
      "22/22 [==============================] - 6s 266ms/step - loss: 4.0275e-04 - val_loss: 5.7691e-05\n",
      "Epoch 62/100\n",
      "22/22 [==============================] - 6s 258ms/step - loss: 3.9675e-04 - val_loss: 7.0374e-05\n",
      "Epoch 63/100\n",
      "22/22 [==============================] - 6s 269ms/step - loss: 3.9901e-04 - val_loss: 6.2714e-05\n",
      "Epoch 64/100\n",
      "22/22 [==============================] - 6s 266ms/step - loss: 3.7692e-04 - val_loss: 5.8433e-05\n",
      "Epoch 65/100\n",
      "22/22 [==============================] - 6s 261ms/step - loss: 3.8343e-04 - val_loss: 5.9648e-05\n",
      "Epoch 66/100\n",
      "22/22 [==============================] - 6s 255ms/step - loss: 4.0928e-04 - val_loss: 7.1167e-05\n",
      "Epoch 67/100\n",
      "22/22 [==============================] - 6s 264ms/step - loss: 3.5718e-04 - val_loss: 5.4573e-05\n",
      "Epoch 68/100\n",
      "22/22 [==============================] - 6s 263ms/step - loss: 3.4557e-04 - val_loss: 5.3549e-05\n",
      "Epoch 69/100\n",
      "22/22 [==============================] - 6s 278ms/step - loss: 3.2964e-04 - val_loss: 5.3001e-05\n",
      "Epoch 70/100\n",
      "22/22 [==============================] - 6s 272ms/step - loss: 3.3630e-04 - val_loss: 6.9550e-05\n",
      "Epoch 71/100\n",
      "22/22 [==============================] - 6s 284ms/step - loss: 3.4461e-04 - val_loss: 5.6793e-05\n",
      "Epoch 72/100\n",
      "22/22 [==============================] - 6s 279ms/step - loss: 3.8331e-04 - val_loss: 5.2245e-05\n",
      "Epoch 73/100\n",
      "22/22 [==============================] - 6s 261ms/step - loss: 3.2024e-04 - val_loss: 7.0693e-05\n",
      "Epoch 74/100\n",
      "22/22 [==============================] - 6s 267ms/step - loss: 4.5336e-04 - val_loss: 6.6822e-05\n",
      "Epoch 75/100\n",
      "22/22 [==============================] - 6s 270ms/step - loss: 3.9025e-04 - val_loss: 5.5482e-05\n",
      "Epoch 76/100\n",
      "22/22 [==============================] - 6s 280ms/step - loss: 3.6282e-04 - val_loss: 7.3340e-05\n",
      "Epoch 77/100\n",
      "22/22 [==============================] - 15s 695ms/step - loss: 4.1180e-04 - val_loss: 6.5041e-05\n",
      "Epoch 78/100\n",
      "22/22 [==============================] - 5s 231ms/step - loss: 3.4565e-04 - val_loss: 7.0603e-05\n",
      "Epoch 79/100\n",
      "22/22 [==============================] - 6s 265ms/step - loss: 3.8139e-04 - val_loss: 5.0558e-05\n",
      "Epoch 80/100\n",
      "22/22 [==============================] - 6s 278ms/step - loss: 4.7019e-04 - val_loss: 5.1224e-05\n",
      "Epoch 81/100\n",
      "22/22 [==============================] - 7s 300ms/step - loss: 3.7539e-04 - val_loss: 5.1493e-05\n",
      "Epoch 82/100\n",
      "22/22 [==============================] - 6s 271ms/step - loss: 3.2388e-04 - val_loss: 5.6128e-05\n",
      "Epoch 83/100\n",
      "22/22 [==============================] - 6s 264ms/step - loss: 3.3975e-04 - val_loss: 4.9913e-05\n",
      "Epoch 84/100\n",
      "22/22 [==============================] - 6s 262ms/step - loss: 3.6316e-04 - val_loss: 5.1662e-05\n",
      "Epoch 85/100\n",
      "22/22 [==============================] - 6s 279ms/step - loss: 3.7897e-04 - val_loss: 5.0311e-05\n",
      "Epoch 86/100\n",
      "22/22 [==============================] - 6s 269ms/step - loss: 3.2713e-04 - val_loss: 5.0953e-05\n",
      "Epoch 87/100\n",
      "22/22 [==============================] - 6s 282ms/step - loss: 3.6306e-04 - val_loss: 5.2412e-05\n",
      "Epoch 88/100\n",
      "22/22 [==============================] - 6s 261ms/step - loss: 3.2032e-04 - val_loss: 5.1281e-05\n",
      "Epoch 89/100\n",
      "22/22 [==============================] - 6s 263ms/step - loss: 3.4135e-04 - val_loss: 5.6953e-05\n",
      "Epoch 90/100\n",
      "22/22 [==============================] - 6s 269ms/step - loss: 3.6770e-04 - val_loss: 6.8772e-05\n",
      "Epoch 91/100\n",
      "22/22 [==============================] - 6s 278ms/step - loss: 3.3681e-04 - val_loss: 5.3564e-05\n",
      "Epoch 92/100\n",
      "22/22 [==============================] - 6s 272ms/step - loss: 3.2162e-04 - val_loss: 6.0644e-05\n",
      "Epoch 93/100\n",
      "22/22 [==============================] - 6s 274ms/step - loss: 3.6264e-04 - val_loss: 5.3383e-05\n",
      "Epoch 94/100\n",
      "22/22 [==============================] - 6s 274ms/step - loss: 3.1949e-04 - val_loss: 5.3453e-05\n",
      "Epoch 95/100\n",
      "22/22 [==============================] - 6s 278ms/step - loss: 3.3537e-04 - val_loss: 4.8944e-05\n",
      "Epoch 96/100\n",
      "22/22 [==============================] - 6s 275ms/step - loss: 3.6243e-04 - val_loss: 7.1993e-05\n",
      "Epoch 97/100\n",
      "22/22 [==============================] - 6s 278ms/step - loss: 3.3593e-04 - val_loss: 4.8818e-05\n",
      "Epoch 98/100\n",
      "22/22 [==============================] - 6s 274ms/step - loss: 3.1673e-04 - val_loss: 5.3222e-05\n",
      "Epoch 99/100\n",
      "22/22 [==============================] - 6s 276ms/step - loss: 3.2339e-04 - val_loss: 4.9688e-05\n",
      "Epoch 100/100\n",
      "22/22 [==============================] - 6s 260ms/step - loss: 3.3785e-04 - val_loss: 4.8296e-05\n"
     ]
    },
    {
     "data": {
      "text/plain": [
       "<keras.src.callbacks.History at 0x1fb9f469300>"
      ]
     },
     "execution_count": 26,
     "metadata": {},
     "output_type": "execute_result"
    }
   ],
   "source": [
    "model.fit(X_train,y_train,validation_data=(X_test,ytest),epochs=100,batch_size=64,verbose=1)"
   ]
  },
  {
   "cell_type": "code",
   "execution_count": 27,
   "id": "b8914bc9",
   "metadata": {},
   "outputs": [
    {
     "data": {
      "text/plain": [
       "'2.15.0'"
      ]
     },
     "execution_count": 27,
     "metadata": {},
     "output_type": "execute_result"
    }
   ],
   "source": [
    "tf.__version__"
   ]
  },
  {
   "cell_type": "code",
   "execution_count": 28,
   "id": "e84ab5ef",
   "metadata": {},
   "outputs": [
    {
     "name": "stdout",
     "output_type": "stream",
     "text": [
      "44/44 [==============================] - 6s 65ms/step\n",
      "22/22 [==============================] - 1s 64ms/step\n"
     ]
    }
   ],
   "source": [
    "### Lets Do the prediction and check performance metrics\n",
    "train_predict=model.predict(X_train)\n",
    "test_predict=model.predict(X_test)"
   ]
  },
  {
   "cell_type": "code",
   "execution_count": 29,
   "id": "1887dd64",
   "metadata": {},
   "outputs": [],
   "source": [
    "##Transformback to original form\n",
    "train_predict=scaler.inverse_transform(train_predict)\n",
    "test_predict=scaler.inverse_transform(test_predict)"
   ]
  },
  {
   "cell_type": "code",
   "execution_count": 30,
   "id": "f19accd3",
   "metadata": {},
   "outputs": [
    {
     "data": {
      "text/plain": [
       "33074.91248815313"
      ]
     },
     "execution_count": 30,
     "metadata": {},
     "output_type": "execute_result"
    }
   ],
   "source": [
    "### Calculate RMSE performance metrics\n",
    "import math\n",
    "from sklearn.metrics import mean_squared_error\n",
    "math.sqrt(mean_squared_error(y_train,train_predict))"
   ]
  },
  {
   "cell_type": "code",
   "execution_count": 31,
   "id": "c4a951f0",
   "metadata": {},
   "outputs": [
    {
     "data": {
      "text/plain": [
       "7872.457912853775"
      ]
     },
     "execution_count": 31,
     "metadata": {},
     "output_type": "execute_result"
    }
   ],
   "source": [
    "### Test Data RMSE\n",
    "math.sqrt(mean_squared_error(ytest,test_predict))"
   ]
  },
  {
   "cell_type": "code",
   "execution_count": 32,
   "id": "659d1236",
   "metadata": {},
   "outputs": [
    {
     "data": {
      "image/png": "[encoded data removed]",
      "text/plain": [
       "<Figure size 640x480 with 1 Axes>"
      ]
     },
     "metadata": {},
     "output_type": "display_data"
    }
   ],
   "source": [
    "### Plotting \n",
    "# shift train predictions for plotting\n",
    "look_back=100\n",
    "trainPredictPlot = numpy.empty_like(df1)\n",
    "trainPredictPlot[:, :] = np.nan\n",
    "trainPredictPlot[look_back:len(train_predict)+look_back, :] = train_predict\n",
    "# shift test predictions for plotting\n",
    "testPredictPlot = numpy.empty_like(df1)\n",
    "testPredictPlot[:, :] = numpy.nan\n",
    "testPredictPlot[len(train_predict)+(look_back*2)+1:len(df1)-1, :] = test_predict\n",
    "# plot baseline and predictions\n",
    "plt.plot(scaler.inverse_transform(df1))\n",
    "plt.plot(trainPredictPlot)\n",
    "plt.plot(testPredictPlot)\n",
    "plt.show()"
   ]
  },
  {
   "cell_type": "code",
   "execution_count": 33,
   "id": "40ec258f",
   "metadata": {},
   "outputs": [
    {
     "data": {
      "text/plain": [
       "796"
      ]
     },
     "execution_count": 33,
     "metadata": {},
     "output_type": "execute_result"
    }
   ],
   "source": [
    "len(test_data)"
   ]
  },
  {
   "cell_type": "code",
   "execution_count": 34,
   "id": "e6df9414",
   "metadata": {},
   "outputs": [
    {
     "data": {
      "text/plain": [
       "(1, 100)"
      ]
     },
     "execution_count": 34,
     "metadata": {},
     "output_type": "execute_result"
    }
   ],
   "source": [
    "x_input=test_data[696:].reshape(1,-1)\n",
    "x_input.shape"
   ]
  },
  {
   "cell_type": "code",
   "execution_count": 35,
   "id": "f4597212",
   "metadata": {},
   "outputs": [],
   "source": [
    "temp_input=list(x_input)\n",
    "temp_input=temp_input[0].tolist()"
   ]
  },
  {
   "cell_type": "code",
   "execution_count": 36,
   "id": "905b2857",
   "metadata": {},
   "outputs": [
    {
     "data": {
      "text/plain": [
       "[0.05192015808012829,\n",
       " 0.05087488186946934,\n",
       " 0.05444027606747043,\n",
       " 0.052650419542369487,\n",
       " 0.04862682207394255,\n",
       " 0.05088920072167015,\n",
       " 0.05126149087889115,\n",
       " 0.06008190383458861,\n",
       " 0.05498439245110112,\n",
       " 0.051504911366304876,\n",
       " 0.053122941664996134,\n",
       " 0.05190583922792749,\n",
       " 0.055857842435350386,\n",
       " 0.06767089550101664,\n",
       " 0.06548011111429307,\n",
       " 0.07037715856696927,\n",
       " 0.07510237979323577,\n",
       " 0.07616197485609554,\n",
       " 0.08144563131819353,\n",
       " 0.07872504940004009,\n",
       " 0.08128812394398464,\n",
       " 0.0813883559093903,\n",
       " 0.07714997565795126,\n",
       " 0.07120765199461611,\n",
       " 0.06652538732495203,\n",
       " 0.07246771098828718,\n",
       " 0.07210973968326699,\n",
       " 0.07133652166442338,\n",
       " 0.08485351814198573,\n",
       " 0.08461009765457202,\n",
       " 0.09022308771728858,\n",
       " 0.07924052807926917,\n",
       " 0.08575560583063661,\n",
       " 0.08694407056330365,\n",
       " 0.09556401958818982,\n",
       " 0.10663249233941406,\n",
       " 0.11601134053094304,\n",
       " 0.1172427618202125,\n",
       " 0.11704229788940117,\n",
       " 0.10880895787393681,\n",
       " 0.10991150949339899,\n",
       " 0.10173544488673787,\n",
       " 0.10547266531114864,\n",
       " 0.10104813998109911,\n",
       " 0.09102494344053381,\n",
       " 0.0927288868524299,\n",
       " 0.09940147197800624,\n",
       " 0.09469056960394055,\n",
       " 0.10374008419485094,\n",
       " 0.11469400612846874,\n",
       " 0.11370600532661303,\n",
       " 0.10266617027979037,\n",
       " 0.11233139551533548,\n",
       " 0.09951602279561271,\n",
       " 0.09749706463529882,\n",
       " 0.08946418855064577,\n",
       " 0.07604742403848908,\n",
       " 0.08125948623958303,\n",
       " 0.0694893897305192,\n",
       " 0.07633380108250522,\n",
       " 0.07833844039061828,\n",
       " 0.07067785446318622,\n",
       " 0.0625161087087259,\n",
       " 0.06404822589421232,\n",
       " 0.053122941664996134,\n",
       " 0.07150834789083307,\n",
       " 0.086099258283456,\n",
       " 0.08111629771757496,\n",
       " 0.08524012715140754,\n",
       " 0.10076176293708296,\n",
       " 0.099344196569203,\n",
       " 0.11477991924167359,\n",
       " 0.12266960680431856,\n",
       " 0.11797302328245367,\n",
       " 0.11297574386437183,\n",
       " 0.11419284630144048,\n",
       " 0.11775824049944157,\n",
       " 0.1098971906411982,\n",
       " 0.10933875540536671,\n",
       " 0.11979151751195623,\n",
       " 0.13789054669377704,\n",
       " 0.11959105358114493,\n",
       " 0.11479423809387439,\n",
       " 0.1140353389272316,\n",
       " 0.11646954380136888,\n",
       " 0.1499040636902546,\n",
       " 0.14987542598585296,\n",
       " 0.15842378074973512,\n",
       " 0.15261032675620723,\n",
       " 0.14758440963372377,\n",
       " 0.1691772387525416,\n",
       " 0.16538274291932759,\n",
       " 0.1682178756550875,\n",
       " 0.18614507861049856,\n",
       " 0.19966207508806094,\n",
       " 0.1965405653082849,\n",
       " 0.17113892150405224,\n",
       " 0.17079526905123282,\n",
       " 0.16503909046650822,\n",
       " 0.14628139408345026]"
      ]
     },
     "execution_count": 36,
     "metadata": {},
     "output_type": "execute_result"
    }
   ],
   "source": [
    "temp_input"
   ]
  },
  {
   "cell_type": "code",
   "execution_count": 37,
   "id": "1b95ad8e",
   "metadata": {},
   "outputs": [
    {
     "name": "stdout",
     "output_type": "stream",
     "text": [
      "[0.1579631]\n",
      "101\n",
      "1 day input [0.05087488 0.05444028 0.05265042 0.04862682 0.0508892  0.05126149\n",
      " 0.0600819  0.05498439 0.05150491 0.05312294 0.05190584 0.05585784\n",
      " 0.0676709  0.06548011 0.07037716 0.07510238 0.07616197 0.08144563\n",
      " 0.07872505 0.08128812 0.08138836 0.07714998 0.07120765 0.06652539\n",
      " 0.07246771 0.07210974 0.07133652 0.08485352 0.0846101  0.09022309\n",
      " 0.07924053 0.08575561 0.08694407 0.09556402 0.10663249 0.11601134\n",
      " 0.11724276 0.1170423  0.10880896 0.10991151 0.10173544 0.10547267\n",
      " 0.10104814 0.09102494 0.09272889 0.09940147 0.09469057 0.10374008\n",
      " 0.11469401 0.11370601 0.10266617 0.1123314  0.09951602 0.09749706\n",
      " 0.08946419 0.07604742 0.08125949 0.06948939 0.0763338  0.07833844\n",
      " 0.07067785 0.06251611 0.06404823 0.05312294 0.07150835 0.08609926\n",
      " 0.0811163  0.08524013 0.10076176 0.0993442  0.11477992 0.12266961\n",
      " 0.11797302 0.11297574 0.11419285 0.11775824 0.10989719 0.10933876\n",
      " 0.11979152 0.13789055 0.11959105 0.11479424 0.11403534 0.11646954\n",
      " 0.14990406 0.14987543 0.15842378 0.15261033 0.14758441 0.16917724\n",
      " 0.16538274 0.16821788 0.18614508 0.19966208 0.19654057 0.17113892\n",
      " 0.17079527 0.16503909 0.14628139 0.1579631 ]\n",
      "1 day output [[0.1526403]]\n",
      "2 day input [0.05444028 0.05265042 0.04862682 0.0508892  0.05126149 0.0600819\n",
      " 0.05498439 0.05150491 0.05312294 0.05190584 0.05585784 0.0676709\n",
      " 0.06548011 0.07037716 0.07510238 0.07616197 0.08144563 0.07872505\n",
      " 0.08128812 0.08138836 0.07714998 0.07120765 0.06652539 0.07246771\n",
      " 0.07210974 0.07133652 0.08485352 0.0846101  0.09022309 0.07924053\n",
      " 0.08575561 0.08694407 0.09556402 0.10663249 0.11601134 0.11724276\n",
      " 0.1170423  0.10880896 0.10991151 0.10173544 0.10547267 0.10104814\n",
      " 0.09102494 0.09272889 0.09940147 0.09469057 0.10374008 0.11469401\n",
      " 0.11370601 0.10266617 0.1123314  0.09951602 0.09749706 0.08946419\n",
      " 0.07604742 0.08125949 0.06948939 0.0763338  0.07833844 0.07067785\n",
      " 0.06251611 0.06404823 0.05312294 0.07150835 0.08609926 0.0811163\n",
      " 0.08524013 0.10076176 0.0993442  0.11477992 0.12266961 0.11797302\n",
      " 0.11297574 0.11419285 0.11775824 0.10989719 0.10933876 0.11979152\n",
      " 0.13789055 0.11959105 0.11479424 0.11403534 0.11646954 0.14990406\n",
      " 0.14987543 0.15842378 0.15261033 0.14758441 0.16917724 0.16538274\n",
      " 0.16821788 0.18614508 0.19966208 0.19654057 0.17113892 0.17079527\n",
      " 0.16503909 0.14628139 0.1579631  0.1526403 ]\n",
      "2 day output [[0.15001346]]\n",
      "3 day input [0.05265042 0.04862682 0.0508892  0.05126149 0.0600819  0.05498439\n",
      " 0.05150491 0.05312294 0.05190584 0.05585784 0.0676709  0.06548011\n",
      " 0.07037716 0.07510238 0.07616197 0.08144563 0.07872505 0.08128812\n",
      " 0.08138836 0.07714998 0.07120765 0.06652539 0.07246771 0.07210974\n",
      " 0.07133652 0.08485352 0.0846101  0.09022309 0.07924053 0.08575561\n",
      " 0.08694407 0.09556402 0.10663249 0.11601134 0.11724276 0.1170423\n",
      " 0.10880896 0.10991151 0.10173544 0.10547267 0.10104814 0.09102494\n",
      " 0.09272889 0.09940147 0.09469057 0.10374008 0.11469401 0.11370601\n",
      " 0.10266617 0.1123314  0.09951602 0.09749706 0.08946419 0.07604742\n",
      " 0.08125949 0.06948939 0.0763338  0.07833844 0.07067785 0.06251611\n",
      " 0.06404823 0.05312294 0.07150835 0.08609926 0.0811163  0.08524013\n",
      " 0.10076176 0.0993442  0.11477992 0.12266961 0.11797302 0.11297574\n",
      " 0.11419285 0.11775824 0.10989719 0.10933876 0.11979152 0.13789055\n",
      " 0.11959105 0.11479424 0.11403534 0.11646954 0.14990406 0.14987543\n",
      " 0.15842378 0.15261033 0.14758441 0.16917724 0.16538274 0.16821788\n",
      " 0.18614508 0.19966208 0.19654057 0.17113892 0.17079527 0.16503909\n",
      " 0.14628139 0.1579631  0.1526403  0.15001346]\n",
      "3 day output [[0.14825301]]\n",
      "4 day input [0.04862682 0.0508892  0.05126149 0.0600819  0.05498439 0.05150491\n",
      " 0.05312294 0.05190584 0.05585784 0.0676709  0.06548011 0.07037716\n",
      " 0.07510238 0.07616197 0.08144563 0.07872505 0.08128812 0.08138836\n",
      " 0.07714998 0.07120765 0.06652539 0.07246771 0.07210974 0.07133652\n",
      " 0.08485352 0.0846101  0.09022309 0.07924053 0.08575561 0.08694407\n",
      " 0.09556402 0.10663249 0.11601134 0.11724276 0.1170423  0.10880896\n",
      " 0.10991151 0.10173544 0.10547267 0.10104814 0.09102494 0.09272889\n",
      " 0.09940147 0.09469057 0.10374008 0.11469401 0.11370601 0.10266617\n",
      " 0.1123314  0.09951602 0.09749706 0.08946419 0.07604742 0.08125949\n",
      " 0.06948939 0.0763338  0.07833844 0.07067785 0.06251611 0.06404823\n",
      " 0.05312294 0.07150835 0.08609926 0.0811163  0.08524013 0.10076176\n",
      " 0.0993442  0.11477992 0.12266961 0.11797302 0.11297574 0.11419285\n",
      " 0.11775824 0.10989719 0.10933876 0.11979152 0.13789055 0.11959105\n",
      " 0.11479424 0.11403534 0.11646954 0.14990406 0.14987543 0.15842378\n",
      " 0.15261033 0.14758441 0.16917724 0.16538274 0.16821788 0.18614508\n",
      " 0.19966208 0.19654057 0.17113892 0.17079527 0.16503909 0.14628139\n",
      " 0.1579631  0.1526403  0.15001346 0.14825301]\n",
      "4 day output [[0.14679374]]\n",
      "5 day input [0.0508892  0.05126149 0.0600819  0.05498439 0.05150491 0.05312294\n",
      " 0.05190584 0.05585784 0.0676709  0.06548011 0.07037716 0.07510238\n",
      " 0.07616197 0.08144563 0.07872505 0.08128812 0.08138836 0.07714998\n",
      " 0.07120765 0.06652539 0.07246771 0.07210974 0.07133652 0.08485352\n",
      " 0.0846101  0.09022309 0.07924053 0.08575561 0.08694407 0.09556402\n",
      " 0.10663249 0.11601134 0.11724276 0.1170423  0.10880896 0.10991151\n",
      " 0.10173544 0.10547267 0.10104814 0.09102494 0.09272889 0.09940147\n",
      " 0.09469057 0.10374008 0.11469401 0.11370601 0.10266617 0.1123314\n",
      " 0.09951602 0.09749706 0.08946419 0.07604742 0.08125949 0.06948939\n",
      " 0.0763338  0.07833844 0.07067785 0.06251611 0.06404823 0.05312294\n",
      " 0.07150835 0.08609926 0.0811163  0.08524013 0.10076176 0.0993442\n",
      " 0.11477992 0.12266961 0.11797302 0.11297574 0.11419285 0.11775824\n",
      " 0.10989719 0.10933876 0.11979152 0.13789055 0.11959105 0.11479424\n",
      " 0.11403534 0.11646954 0.14990406 0.14987543 0.15842378 0.15261033\n",
      " 0.14758441 0.16917724 0.16538274 0.16821788 0.18614508 0.19966208\n",
      " 0.19654057 0.17113892 0.17079527 0.16503909 0.14628139 0.1579631\n",
      " 0.1526403  0.15001346 0.14825301 0.14679374]\n",
      "5 day output [[0.14549074]]\n",
      "6 day input [0.05126149 0.0600819  0.05498439 0.05150491 0.05312294 0.05190584\n",
      " 0.05585784 0.0676709  0.06548011 0.07037716 0.07510238 0.07616197\n",
      " 0.08144563 0.07872505 0.08128812 0.08138836 0.07714998 0.07120765\n",
      " 0.06652539 0.07246771 0.07210974 0.07133652 0.08485352 0.0846101\n",
      " 0.09022309 0.07924053 0.08575561 0.08694407 0.09556402 0.10663249\n",
      " 0.11601134 0.11724276 0.1170423  0.10880896 0.10991151 0.10173544\n",
      " 0.10547267 0.10104814 0.09102494 0.09272889 0.09940147 0.09469057\n",
      " 0.10374008 0.11469401 0.11370601 0.10266617 0.1123314  0.09951602\n",
      " 0.09749706 0.08946419 0.07604742 0.08125949 0.06948939 0.0763338\n",
      " 0.07833844 0.07067785 0.06251611 0.06404823 0.05312294 0.07150835\n",
      " 0.08609926 0.0811163  0.08524013 0.10076176 0.0993442  0.11477992\n",
      " 0.12266961 0.11797302 0.11297574 0.11419285 0.11775824 0.10989719\n",
      " 0.10933876 0.11979152 0.13789055 0.11959105 0.11479424 0.11403534\n",
      " 0.11646954 0.14990406 0.14987543 0.15842378 0.15261033 0.14758441\n",
      " 0.16917724 0.16538274 0.16821788 0.18614508 0.19966208 0.19654057\n",
      " 0.17113892 0.17079527 0.16503909 0.14628139 0.1579631  0.1526403\n",
      " 0.15001346 0.14825301 0.14679374 0.14549074]\n",
      "6 day output [[0.14430843]]\n",
      "7 day input [0.0600819  0.05498439 0.05150491 0.05312294 0.05190584 0.05585784\n",
      " 0.0676709  0.06548011 0.07037716 0.07510238 0.07616197 0.08144563\n",
      " 0.07872505 0.08128812 0.08138836 0.07714998 0.07120765 0.06652539\n",
      " 0.07246771 0.07210974 0.07133652 0.08485352 0.0846101  0.09022309\n",
      " 0.07924053 0.08575561 0.08694407 0.09556402 0.10663249 0.11601134\n",
      " 0.11724276 0.1170423  0.10880896 0.10991151 0.10173544 0.10547267\n",
      " 0.10104814 0.09102494 0.09272889 0.09940147 0.09469057 0.10374008\n",
      " 0.11469401 0.11370601 0.10266617 0.1123314  0.09951602 0.09749706\n",
      " 0.08946419 0.07604742 0.08125949 0.06948939 0.0763338  0.07833844\n",
      " 0.07067785 0.06251611 0.06404823 0.05312294 0.07150835 0.08609926\n",
      " 0.0811163  0.08524013 0.10076176 0.0993442  0.11477992 0.12266961\n",
      " 0.11797302 0.11297574 0.11419285 0.11775824 0.10989719 0.10933876\n",
      " 0.11979152 0.13789055 0.11959105 0.11479424 0.11403534 0.11646954\n",
      " 0.14990406 0.14987543 0.15842378 0.15261033 0.14758441 0.16917724\n",
      " 0.16538274 0.16821788 0.18614508 0.19966208 0.19654057 0.17113892\n",
      " 0.17079527 0.16503909 0.14628139 0.1579631  0.1526403  0.15001346\n",
      " 0.14825301 0.14679374 0.14549074 0.14430843]\n",
      "7 day output [[0.1432364]]\n",
      "8 day input [0.05498439 0.05150491 0.05312294 0.05190584 0.05585784 0.0676709\n",
      " 0.06548011 0.07037716 0.07510238 0.07616197 0.08144563 0.07872505\n",
      " 0.08128812 0.08138836 0.07714998 0.07120765 0.06652539 0.07246771\n",
      " 0.07210974 0.07133652 0.08485352 0.0846101  0.09022309 0.07924053\n",
      " 0.08575561 0.08694407 0.09556402 0.10663249 0.11601134 0.11724276\n",
      " 0.1170423  0.10880896 0.10991151 0.10173544 0.10547267 0.10104814\n",
      " 0.09102494 0.09272889 0.09940147 0.09469057 0.10374008 0.11469401\n",
      " 0.11370601 0.10266617 0.1123314  0.09951602 0.09749706 0.08946419\n",
      " 0.07604742 0.08125949 0.06948939 0.0763338  0.07833844 0.07067785\n",
      " 0.06251611 0.06404823 0.05312294 0.07150835 0.08609926 0.0811163\n",
      " 0.08524013 0.10076176 0.0993442  0.11477992 0.12266961 0.11797302\n",
      " 0.11297574 0.11419285 0.11775824 0.10989719 0.10933876 0.11979152\n",
      " 0.13789055 0.11959105 0.11479424 0.11403534 0.11646954 0.14990406\n",
      " 0.14987543 0.15842378 0.15261033 0.14758441 0.16917724 0.16538274\n",
      " 0.16821788 0.18614508 0.19966208 0.19654057 0.17113892 0.17079527\n",
      " 0.16503909 0.14628139 0.1579631  0.1526403  0.15001346 0.14825301\n",
      " 0.14679374 0.14549074 0.14430843 0.1432364 ]\n",
      "8 day output [[0.1422702]]\n",
      "9 day input [0.05150491 0.05312294 0.05190584 0.05585784 0.0676709  0.06548011\n",
      " 0.07037716 0.07510238 0.07616197 0.08144563 0.07872505 0.08128812\n",
      " 0.08138836 0.07714998 0.07120765 0.06652539 0.07246771 0.07210974\n",
      " 0.07133652 0.08485352 0.0846101  0.09022309 0.07924053 0.08575561\n",
      " 0.08694407 0.09556402 0.10663249 0.11601134 0.11724276 0.1170423\n",
      " 0.10880896 0.10991151 0.10173544 0.10547267 0.10104814 0.09102494\n",
      " 0.09272889 0.09940147 0.09469057 0.10374008 0.11469401 0.11370601\n",
      " 0.10266617 0.1123314  0.09951602 0.09749706 0.08946419 0.07604742\n",
      " 0.08125949 0.06948939 0.0763338  0.07833844 0.07067785 0.06251611\n",
      " 0.06404823 0.05312294 0.07150835 0.08609926 0.0811163  0.08524013\n",
      " 0.10076176 0.0993442  0.11477992 0.12266961 0.11797302 0.11297574\n",
      " 0.11419285 0.11775824 0.10989719 0.10933876 0.11979152 0.13789055\n",
      " 0.11959105 0.11479424 0.11403534 0.11646954 0.14990406 0.14987543\n",
      " 0.15842378 0.15261033 0.14758441 0.16917724 0.16538274 0.16821788\n",
      " 0.18614508 0.19966208 0.19654057 0.17113892 0.17079527 0.16503909\n",
      " 0.14628139 0.1579631  0.1526403  0.15001346 0.14825301 0.14679374\n",
      " 0.14549074 0.14430843 0.1432364  0.14227021]\n",
      "9 day output [[0.14140698]]\n",
      "10 day input [0.05312294 0.05190584 0.05585784 0.0676709  0.06548011 0.07037716\n",
      " 0.07510238 0.07616197 0.08144563 0.07872505 0.08128812 0.08138836\n",
      " 0.07714998 0.07120765 0.06652539 0.07246771 0.07210974 0.07133652\n",
      " 0.08485352 0.0846101  0.09022309 0.07924053 0.08575561 0.08694407\n",
      " 0.09556402 0.10663249 0.11601134 0.11724276 0.1170423  0.10880896\n",
      " 0.10991151 0.10173544 0.10547267 0.10104814 0.09102494 0.09272889\n",
      " 0.09940147 0.09469057 0.10374008 0.11469401 0.11370601 0.10266617\n",
      " 0.1123314  0.09951602 0.09749706 0.08946419 0.07604742 0.08125949\n",
      " 0.06948939 0.0763338  0.07833844 0.07067785 0.06251611 0.06404823\n",
      " 0.05312294 0.07150835 0.08609926 0.0811163  0.08524013 0.10076176\n",
      " 0.0993442  0.11477992 0.12266961 0.11797302 0.11297574 0.11419285\n",
      " 0.11775824 0.10989719 0.10933876 0.11979152 0.13789055 0.11959105\n",
      " 0.11479424 0.11403534 0.11646954 0.14990406 0.14987543 0.15842378\n",
      " 0.15261033 0.14758441 0.16917724 0.16538274 0.16821788 0.18614508\n",
      " 0.19966208 0.19654057 0.17113892 0.17079527 0.16503909 0.14628139\n",
      " 0.1579631  0.1526403  0.15001346 0.14825301 0.14679374 0.14549074\n",
      " 0.14430843 0.1432364  0.14227021 0.14140698]\n",
      "10 day output [[0.14064318]]\n",
      "11 day input [0.05190584 0.05585784 0.0676709  0.06548011 0.07037716 0.07510238\n",
      " 0.07616197 0.08144563 0.07872505 0.08128812 0.08138836 0.07714998\n",
      " 0.07120765 0.06652539 0.07246771 0.07210974 0.07133652 0.08485352\n",
      " 0.0846101  0.09022309 0.07924053 0.08575561 0.08694407 0.09556402\n",
      " 0.10663249 0.11601134 0.11724276 0.1170423  0.10880896 0.10991151\n",
      " 0.10173544 0.10547267 0.10104814 0.09102494 0.09272889 0.09940147\n",
      " 0.09469057 0.10374008 0.11469401 0.11370601 0.10266617 0.1123314\n",
      " 0.09951602 0.09749706 0.08946419 0.07604742 0.08125949 0.06948939\n",
      " 0.0763338  0.07833844 0.07067785 0.06251611 0.06404823 0.05312294\n",
      " 0.07150835 0.08609926 0.0811163  0.08524013 0.10076176 0.0993442\n",
      " 0.11477992 0.12266961 0.11797302 0.11297574 0.11419285 0.11775824\n",
      " 0.10989719 0.10933876 0.11979152 0.13789055 0.11959105 0.11479424\n",
      " 0.11403534 0.11646954 0.14990406 0.14987543 0.15842378 0.15261033\n",
      " 0.14758441 0.16917724 0.16538274 0.16821788 0.18614508 0.19966208\n",
      " 0.19654057 0.17113892 0.17079527 0.16503909 0.14628139 0.1579631\n",
      " 0.1526403  0.15001346 0.14825301 0.14679374 0.14549074 0.14430843\n",
      " 0.1432364  0.14227021 0.14140698 0.14064318]\n",
      "11 day output [[0.13997364]]\n",
      "12 day input [0.05585784 0.0676709  0.06548011 0.07037716 0.07510238 0.07616197\n",
      " 0.08144563 0.07872505 0.08128812 0.08138836 0.07714998 0.07120765\n",
      " 0.06652539 0.07246771 0.07210974 0.07133652 0.08485352 0.0846101\n",
      " 0.09022309 0.07924053 0.08575561 0.08694407 0.09556402 0.10663249\n",
      " 0.11601134 0.11724276 0.1170423  0.10880896 0.10991151 0.10173544\n",
      " 0.10547267 0.10104814 0.09102494 0.09272889 0.09940147 0.09469057\n",
      " 0.10374008 0.11469401 0.11370601 0.10266617 0.1123314  0.09951602\n",
      " 0.09749706 0.08946419 0.07604742 0.08125949 0.06948939 0.0763338\n",
      " 0.07833844 0.07067785 0.06251611 0.06404823 0.05312294 0.07150835\n",
      " 0.08609926 0.0811163  0.08524013 0.10076176 0.0993442  0.11477992\n",
      " 0.12266961 0.11797302 0.11297574 0.11419285 0.11775824 0.10989719\n",
      " 0.10933876 0.11979152 0.13789055 0.11959105 0.11479424 0.11403534\n",
      " 0.11646954 0.14990406 0.14987543 0.15842378 0.15261033 0.14758441\n",
      " 0.16917724 0.16538274 0.16821788 0.18614508 0.19966208 0.19654057\n",
      " 0.17113892 0.17079527 0.16503909 0.14628139 0.1579631  0.1526403\n",
      " 0.15001346 0.14825301 0.14679374 0.14549074 0.14430843 0.1432364\n",
      " 0.14227021 0.14140698 0.14064318 0.13997364]\n",
      "12 day output [[0.13939117]]\n",
      "13 day input [0.0676709  0.06548011 0.07037716 0.07510238 0.07616197 0.08144563\n",
      " 0.07872505 0.08128812 0.08138836 0.07714998 0.07120765 0.06652539\n",
      " 0.07246771 0.07210974 0.07133652 0.08485352 0.0846101  0.09022309\n",
      " 0.07924053 0.08575561 0.08694407 0.09556402 0.10663249 0.11601134\n",
      " 0.11724276 0.1170423  0.10880896 0.10991151 0.10173544 0.10547267\n",
      " 0.10104814 0.09102494 0.09272889 0.09940147 0.09469057 0.10374008\n",
      " 0.11469401 0.11370601 0.10266617 0.1123314  0.09951602 0.09749706\n",
      " 0.08946419 0.07604742 0.08125949 0.06948939 0.0763338  0.07833844\n",
      " 0.07067785 0.06251611 0.06404823 0.05312294 0.07150835 0.08609926\n",
      " 0.0811163  0.08524013 0.10076176 0.0993442  0.11477992 0.12266961\n",
      " 0.11797302 0.11297574 0.11419285 0.11775824 0.10989719 0.10933876\n",
      " 0.11979152 0.13789055 0.11959105 0.11479424 0.11403534 0.11646954\n",
      " 0.14990406 0.14987543 0.15842378 0.15261033 0.14758441 0.16917724\n",
      " 0.16538274 0.16821788 0.18614508 0.19966208 0.19654057 0.17113892\n",
      " 0.17079527 0.16503909 0.14628139 0.1579631  0.1526403  0.15001346\n",
      " 0.14825301 0.14679374 0.14549074 0.14430843 0.1432364  0.14227021\n",
      " 0.14140698 0.14064318 0.13997364 0.13939117]\n",
      "13 day output [[0.13888653]]\n",
      "14 day input [0.06548011 0.07037716 0.07510238 0.07616197 0.08144563 0.07872505\n",
      " 0.08128812 0.08138836 0.07714998 0.07120765 0.06652539 0.07246771\n",
      " 0.07210974 0.07133652 0.08485352 0.0846101  0.09022309 0.07924053\n",
      " 0.08575561 0.08694407 0.09556402 0.10663249 0.11601134 0.11724276\n",
      " 0.1170423  0.10880896 0.10991151 0.10173544 0.10547267 0.10104814\n",
      " 0.09102494 0.09272889 0.09940147 0.09469057 0.10374008 0.11469401\n",
      " 0.11370601 0.10266617 0.1123314  0.09951602 0.09749706 0.08946419\n",
      " 0.07604742 0.08125949 0.06948939 0.0763338  0.07833844 0.07067785\n",
      " 0.06251611 0.06404823 0.05312294 0.07150835 0.08609926 0.0811163\n",
      " 0.08524013 0.10076176 0.0993442  0.11477992 0.12266961 0.11797302\n",
      " 0.11297574 0.11419285 0.11775824 0.10989719 0.10933876 0.11979152\n",
      " 0.13789055 0.11959105 0.11479424 0.11403534 0.11646954 0.14990406\n",
      " 0.14987543 0.15842378 0.15261033 0.14758441 0.16917724 0.16538274\n",
      " 0.16821788 0.18614508 0.19966208 0.19654057 0.17113892 0.17079527\n",
      " 0.16503909 0.14628139 0.1579631  0.1526403  0.15001346 0.14825301\n",
      " 0.14679374 0.14549074 0.14430843 0.1432364  0.14227021 0.14140698\n",
      " 0.14064318 0.13997364 0.13939117 0.13888653]\n",
      "14 day output [[0.13844885]]\n",
      "15 day input [0.07037716 0.07510238 0.07616197 0.08144563 0.07872505 0.08128812\n",
      " 0.08138836 0.07714998 0.07120765 0.06652539 0.07246771 0.07210974\n",
      " 0.07133652 0.08485352 0.0846101  0.09022309 0.07924053 0.08575561\n",
      " 0.08694407 0.09556402 0.10663249 0.11601134 0.11724276 0.1170423\n",
      " 0.10880896 0.10991151 0.10173544 0.10547267 0.10104814 0.09102494\n",
      " 0.09272889 0.09940147 0.09469057 0.10374008 0.11469401 0.11370601\n",
      " 0.10266617 0.1123314  0.09951602 0.09749706 0.08946419 0.07604742\n",
      " 0.08125949 0.06948939 0.0763338  0.07833844 0.07067785 0.06251611\n",
      " 0.06404823 0.05312294 0.07150835 0.08609926 0.0811163  0.08524013\n",
      " 0.10076176 0.0993442  0.11477992 0.12266961 0.11797302 0.11297574\n",
      " 0.11419285 0.11775824 0.10989719 0.10933876 0.11979152 0.13789055\n",
      " 0.11959105 0.11479424 0.11403534 0.11646954 0.14990406 0.14987543\n",
      " 0.15842378 0.15261033 0.14758441 0.16917724 0.16538274 0.16821788\n",
      " 0.18614508 0.19966208 0.19654057 0.17113892 0.17079527 0.16503909\n",
      " 0.14628139 0.1579631  0.1526403  0.15001346 0.14825301 0.14679374\n",
      " 0.14549074 0.14430843 0.1432364  0.14227021 0.14140698 0.14064318\n",
      " 0.13997364 0.13939117 0.13888653 0.13844885]\n",
      "15 day output [[0.13806647]]\n",
      "16 day input [0.07510238 0.07616197 0.08144563 0.07872505 0.08128812 0.08138836\n",
      " 0.07714998 0.07120765 0.06652539 0.07246771 0.07210974 0.07133652\n",
      " 0.08485352 0.0846101  0.09022309 0.07924053 0.08575561 0.08694407\n",
      " 0.09556402 0.10663249 0.11601134 0.11724276 0.1170423  0.10880896\n",
      " 0.10991151 0.10173544 0.10547267 0.10104814 0.09102494 0.09272889\n",
      " 0.09940147 0.09469057 0.10374008 0.11469401 0.11370601 0.10266617\n",
      " 0.1123314  0.09951602 0.09749706 0.08946419 0.07604742 0.08125949\n",
      " 0.06948939 0.0763338  0.07833844 0.07067785 0.06251611 0.06404823\n",
      " 0.05312294 0.07150835 0.08609926 0.0811163  0.08524013 0.10076176\n",
      " 0.0993442  0.11477992 0.12266961 0.11797302 0.11297574 0.11419285\n",
      " 0.11775824 0.10989719 0.10933876 0.11979152 0.13789055 0.11959105\n",
      " 0.11479424 0.11403534 0.11646954 0.14990406 0.14987543 0.15842378\n",
      " 0.15261033 0.14758441 0.16917724 0.16538274 0.16821788 0.18614508\n",
      " 0.19966208 0.19654057 0.17113892 0.17079527 0.16503909 0.14628139\n",
      " 0.1579631  0.1526403  0.15001346 0.14825301 0.14679374 0.14549074\n",
      " 0.14430843 0.1432364  0.14227021 0.14140698 0.14064318 0.13997364\n",
      " 0.13939117 0.13888653 0.13844885 0.13806647]\n",
      "16 day output [[0.13772713]]\n",
      "17 day input [0.07616197 0.08144563 0.07872505 0.08128812 0.08138836 0.07714998\n",
      " 0.07120765 0.06652539 0.07246771 0.07210974 0.07133652 0.08485352\n",
      " 0.0846101  0.09022309 0.07924053 0.08575561 0.08694407 0.09556402\n",
      " 0.10663249 0.11601134 0.11724276 0.1170423  0.10880896 0.10991151\n",
      " 0.10173544 0.10547267 0.10104814 0.09102494 0.09272889 0.09940147\n",
      " 0.09469057 0.10374008 0.11469401 0.11370601 0.10266617 0.1123314\n",
      " 0.09951602 0.09749706 0.08946419 0.07604742 0.08125949 0.06948939\n",
      " 0.0763338  0.07833844 0.07067785 0.06251611 0.06404823 0.05312294\n",
      " 0.07150835 0.08609926 0.0811163  0.08524013 0.10076176 0.0993442\n",
      " 0.11477992 0.12266961 0.11797302 0.11297574 0.11419285 0.11775824\n",
      " 0.10989719 0.10933876 0.11979152 0.13789055 0.11959105 0.11479424\n",
      " 0.11403534 0.11646954 0.14990406 0.14987543 0.15842378 0.15261033\n",
      " 0.14758441 0.16917724 0.16538274 0.16821788 0.18614508 0.19966208\n",
      " 0.19654057 0.17113892 0.17079527 0.16503909 0.14628139 0.1579631\n",
      " 0.1526403  0.15001346 0.14825301 0.14679374 0.14549074 0.14430843\n",
      " 0.1432364  0.14227021 0.14140698 0.14064318 0.13997364 0.13939117\n",
      " 0.13888653 0.13844885 0.13806647 0.13772713]\n",
      "17 day output [[0.13741884]]\n",
      "18 day input [0.08144563 0.07872505 0.08128812 0.08138836 0.07714998 0.07120765\n",
      " 0.06652539 0.07246771 0.07210974 0.07133652 0.08485352 0.0846101\n",
      " 0.09022309 0.07924053 0.08575561 0.08694407 0.09556402 0.10663249\n",
      " 0.11601134 0.11724276 0.1170423  0.10880896 0.10991151 0.10173544\n",
      " 0.10547267 0.10104814 0.09102494 0.09272889 0.09940147 0.09469057\n",
      " 0.10374008 0.11469401 0.11370601 0.10266617 0.1123314  0.09951602\n",
      " 0.09749706 0.08946419 0.07604742 0.08125949 0.06948939 0.0763338\n",
      " 0.07833844 0.07067785 0.06251611 0.06404823 0.05312294 0.07150835\n",
      " 0.08609926 0.0811163  0.08524013 0.10076176 0.0993442  0.11477992\n",
      " 0.12266961 0.11797302 0.11297574 0.11419285 0.11775824 0.10989719\n",
      " 0.10933876 0.11979152 0.13789055 0.11959105 0.11479424 0.11403534\n",
      " 0.11646954 0.14990406 0.14987543 0.15842378 0.15261033 0.14758441\n",
      " 0.16917724 0.16538274 0.16821788 0.18614508 0.19966208 0.19654057\n",
      " 0.17113892 0.17079527 0.16503909 0.14628139 0.1579631  0.1526403\n",
      " 0.15001346 0.14825301 0.14679374 0.14549074 0.14430843 0.1432364\n",
      " 0.14227021 0.14140698 0.14064318 0.13997364 0.13939117 0.13888653\n",
      " 0.13844885 0.13806647 0.13772713 0.13741884]\n",
      "18 day output [[0.1371303]]\n",
      "19 day input [0.07872505 0.08128812 0.08138836 0.07714998 0.07120765 0.06652539\n",
      " 0.07246771 0.07210974 0.07133652 0.08485352 0.0846101  0.09022309\n",
      " 0.07924053 0.08575561 0.08694407 0.09556402 0.10663249 0.11601134\n",
      " 0.11724276 0.1170423  0.10880896 0.10991151 0.10173544 0.10547267\n",
      " 0.10104814 0.09102494 0.09272889 0.09940147 0.09469057 0.10374008\n",
      " 0.11469401 0.11370601 0.10266617 0.1123314  0.09951602 0.09749706\n",
      " 0.08946419 0.07604742 0.08125949 0.06948939 0.0763338  0.07833844\n",
      " 0.07067785 0.06251611 0.06404823 0.05312294 0.07150835 0.08609926\n",
      " 0.0811163  0.08524013 0.10076176 0.0993442  0.11477992 0.12266961\n",
      " 0.11797302 0.11297574 0.11419285 0.11775824 0.10989719 0.10933876\n",
      " 0.11979152 0.13789055 0.11959105 0.11479424 0.11403534 0.11646954\n",
      " 0.14990406 0.14987543 0.15842378 0.15261033 0.14758441 0.16917724\n",
      " 0.16538274 0.16821788 0.18614508 0.19966208 0.19654057 0.17113892\n",
      " 0.17079527 0.16503909 0.14628139 0.1579631  0.1526403  0.15001346\n",
      " 0.14825301 0.14679374 0.14549074 0.14430843 0.1432364  0.14227021\n",
      " 0.14140698 0.14064318 0.13997364 0.13939117 0.13888653 0.13844885\n",
      " 0.13806647 0.13772713 0.13741884 0.13713031]\n",
      "19 day output [[0.13685119]]\n",
      "20 day input [0.08128812 0.08138836 0.07714998 0.07120765 0.06652539 0.07246771\n",
      " 0.07210974 0.07133652 0.08485352 0.0846101  0.09022309 0.07924053\n",
      " 0.08575561 0.08694407 0.09556402 0.10663249 0.11601134 0.11724276\n",
      " 0.1170423  0.10880896 0.10991151 0.10173544 0.10547267 0.10104814\n",
      " 0.09102494 0.09272889 0.09940147 0.09469057 0.10374008 0.11469401\n",
      " 0.11370601 0.10266617 0.1123314  0.09951602 0.09749706 0.08946419\n",
      " 0.07604742 0.08125949 0.06948939 0.0763338  0.07833844 0.07067785\n",
      " 0.06251611 0.06404823 0.05312294 0.07150835 0.08609926 0.0811163\n",
      " 0.08524013 0.10076176 0.0993442  0.11477992 0.12266961 0.11797302\n",
      " 0.11297574 0.11419285 0.11775824 0.10989719 0.10933876 0.11979152\n",
      " 0.13789055 0.11959105 0.11479424 0.11403534 0.11646954 0.14990406\n",
      " 0.14987543 0.15842378 0.15261033 0.14758441 0.16917724 0.16538274\n",
      " 0.16821788 0.18614508 0.19966208 0.19654057 0.17113892 0.17079527\n",
      " 0.16503909 0.14628139 0.1579631  0.1526403  0.15001346 0.14825301\n",
      " 0.14679374 0.14549074 0.14430843 0.1432364  0.14227021 0.14140698\n",
      " 0.14064318 0.13997364 0.13939117 0.13888653 0.13844885 0.13806647\n",
      " 0.13772713 0.13741884 0.13713031 0.13685119]\n",
      "20 day output [[0.13657239]]\n",
      "21 day input [0.08138836 0.07714998 0.07120765 0.06652539 0.07246771 0.07210974\n",
      " 0.07133652 0.08485352 0.0846101  0.09022309 0.07924053 0.08575561\n",
      " 0.08694407 0.09556402 0.10663249 0.11601134 0.11724276 0.1170423\n",
      " 0.10880896 0.10991151 0.10173544 0.10547267 0.10104814 0.09102494\n",
      " 0.09272889 0.09940147 0.09469057 0.10374008 0.11469401 0.11370601\n",
      " 0.10266617 0.1123314  0.09951602 0.09749706 0.08946419 0.07604742\n",
      " 0.08125949 0.06948939 0.0763338  0.07833844 0.07067785 0.06251611\n",
      " 0.06404823 0.05312294 0.07150835 0.08609926 0.0811163  0.08524013\n",
      " 0.10076176 0.0993442  0.11477992 0.12266961 0.11797302 0.11297574\n",
      " 0.11419285 0.11775824 0.10989719 0.10933876 0.11979152 0.13789055\n",
      " 0.11959105 0.11479424 0.11403534 0.11646954 0.14990406 0.14987543\n",
      " 0.15842378 0.15261033 0.14758441 0.16917724 0.16538274 0.16821788\n",
      " 0.18614508 0.19966208 0.19654057 0.17113892 0.17079527 0.16503909\n",
      " 0.14628139 0.1579631  0.1526403  0.15001346 0.14825301 0.14679374\n",
      " 0.14549074 0.14430843 0.1432364  0.14227021 0.14140698 0.14064318\n",
      " 0.13997364 0.13939117 0.13888653 0.13844885 0.13806647 0.13772713\n",
      " 0.13741884 0.13713031 0.13685119 0.13657239]\n",
      "21 day output [[0.13628626]]\n",
      "22 day input [0.07714998 0.07120765 0.06652539 0.07246771 0.07210974 0.07133652\n",
      " 0.08485352 0.0846101  0.09022309 0.07924053 0.08575561 0.08694407\n",
      " 0.09556402 0.10663249 0.11601134 0.11724276 0.1170423  0.10880896\n",
      " 0.10991151 0.10173544 0.10547267 0.10104814 0.09102494 0.09272889\n",
      " 0.09940147 0.09469057 0.10374008 0.11469401 0.11370601 0.10266617\n",
      " 0.1123314  0.09951602 0.09749706 0.08946419 0.07604742 0.08125949\n",
      " 0.06948939 0.0763338  0.07833844 0.07067785 0.06251611 0.06404823\n",
      " 0.05312294 0.07150835 0.08609926 0.0811163  0.08524013 0.10076176\n",
      " 0.0993442  0.11477992 0.12266961 0.11797302 0.11297574 0.11419285\n",
      " 0.11775824 0.10989719 0.10933876 0.11979152 0.13789055 0.11959105\n",
      " 0.11479424 0.11403534 0.11646954 0.14990406 0.14987543 0.15842378\n",
      " 0.15261033 0.14758441 0.16917724 0.16538274 0.16821788 0.18614508\n",
      " 0.19966208 0.19654057 0.17113892 0.17079527 0.16503909 0.14628139\n",
      " 0.1579631  0.1526403  0.15001346 0.14825301 0.14679374 0.14549074\n",
      " 0.14430843 0.1432364  0.14227021 0.14140698 0.14064318 0.13997364\n",
      " 0.13939117 0.13888653 0.13844885 0.13806647 0.13772713 0.13741884\n",
      " 0.13713031 0.13685119 0.13657239 0.13628626]\n",
      "22 day output [[0.1359866]]\n",
      "23 day input [0.07120765 0.06652539 0.07246771 0.07210974 0.07133652 0.08485352\n",
      " 0.0846101  0.09022309 0.07924053 0.08575561 0.08694407 0.09556402\n",
      " 0.10663249 0.11601134 0.11724276 0.1170423  0.10880896 0.10991151\n",
      " 0.10173544 0.10547267 0.10104814 0.09102494 0.09272889 0.09940147\n",
      " 0.09469057 0.10374008 0.11469401 0.11370601 0.10266617 0.1123314\n",
      " 0.09951602 0.09749706 0.08946419 0.07604742 0.08125949 0.06948939\n",
      " 0.0763338  0.07833844 0.07067785 0.06251611 0.06404823 0.05312294\n",
      " 0.07150835 0.08609926 0.0811163  0.08524013 0.10076176 0.0993442\n",
      " 0.11477992 0.12266961 0.11797302 0.11297574 0.11419285 0.11775824\n",
      " 0.10989719 0.10933876 0.11979152 0.13789055 0.11959105 0.11479424\n",
      " 0.11403534 0.11646954 0.14990406 0.14987543 0.15842378 0.15261033\n",
      " 0.14758441 0.16917724 0.16538274 0.16821788 0.18614508 0.19966208\n",
      " 0.19654057 0.17113892 0.17079527 0.16503909 0.14628139 0.1579631\n",
      " 0.1526403  0.15001346 0.14825301 0.14679374 0.14549074 0.14430843\n",
      " 0.1432364  0.14227021 0.14140698 0.14064318 0.13997364 0.13939117\n",
      " 0.13888653 0.13844885 0.13806647 0.13772713 0.13741884 0.13713031\n",
      " 0.13685119 0.13657239 0.13628626 0.1359866 ]\n",
      "23 day output [[0.13566858]]\n",
      "24 day input [0.06652539 0.07246771 0.07210974 0.07133652 0.08485352 0.0846101\n",
      " 0.09022309 0.07924053 0.08575561 0.08694407 0.09556402 0.10663249\n",
      " 0.11601134 0.11724276 0.1170423  0.10880896 0.10991151 0.10173544\n",
      " 0.10547267 0.10104814 0.09102494 0.09272889 0.09940147 0.09469057\n",
      " 0.10374008 0.11469401 0.11370601 0.10266617 0.1123314  0.09951602\n",
      " 0.09749706 0.08946419 0.07604742 0.08125949 0.06948939 0.0763338\n",
      " 0.07833844 0.07067785 0.06251611 0.06404823 0.05312294 0.07150835\n",
      " 0.08609926 0.0811163  0.08524013 0.10076176 0.0993442  0.11477992\n",
      " 0.12266961 0.11797302 0.11297574 0.11419285 0.11775824 0.10989719\n",
      " 0.10933876 0.11979152 0.13789055 0.11959105 0.11479424 0.11403534\n",
      " 0.11646954 0.14990406 0.14987543 0.15842378 0.15261033 0.14758441\n",
      " 0.16917724 0.16538274 0.16821788 0.18614508 0.19966208 0.19654057\n",
      " 0.17113892 0.17079527 0.16503909 0.14628139 0.1579631  0.1526403\n",
      " 0.15001346 0.14825301 0.14679374 0.14549074 0.14430843 0.1432364\n",
      " 0.14227021 0.14140698 0.14064318 0.13997364 0.13939117 0.13888653\n",
      " 0.13844885 0.13806647 0.13772713 0.13741884 0.13713031 0.13685119\n",
      " 0.13657239 0.13628626 0.1359866  0.13566858]\n",
      "24 day output [[0.13532884]]\n",
      "25 day input [0.07246771 0.07210974 0.07133652 0.08485352 0.0846101  0.09022309\n",
      " 0.07924053 0.08575561 0.08694407 0.09556402 0.10663249 0.11601134\n",
      " 0.11724276 0.1170423  0.10880896 0.10991151 0.10173544 0.10547267\n",
      " 0.10104814 0.09102494 0.09272889 0.09940147 0.09469057 0.10374008\n",
      " 0.11469401 0.11370601 0.10266617 0.1123314  0.09951602 0.09749706\n",
      " 0.08946419 0.07604742 0.08125949 0.06948939 0.0763338  0.07833844\n",
      " 0.07067785 0.06251611 0.06404823 0.05312294 0.07150835 0.08609926\n",
      " 0.0811163  0.08524013 0.10076176 0.0993442  0.11477992 0.12266961\n",
      " 0.11797302 0.11297574 0.11419285 0.11775824 0.10989719 0.10933876\n",
      " 0.11979152 0.13789055 0.11959105 0.11479424 0.11403534 0.11646954\n",
      " 0.14990406 0.14987543 0.15842378 0.15261033 0.14758441 0.16917724\n",
      " 0.16538274 0.16821788 0.18614508 0.19966208 0.19654057 0.17113892\n",
      " 0.17079527 0.16503909 0.14628139 0.1579631  0.1526403  0.15001346\n",
      " 0.14825301 0.14679374 0.14549074 0.14430843 0.1432364  0.14227021\n",
      " 0.14140698 0.14064318 0.13997364 0.13939117 0.13888653 0.13844885\n",
      " 0.13806647 0.13772713 0.13741884 0.13713031 0.13685119 0.13657239\n",
      " 0.13628626 0.1359866  0.13566858 0.13532884]\n",
      "25 day output [[0.13496515]]\n",
      "26 day input [0.07210974 0.07133652 0.08485352 0.0846101  0.09022309 0.07924053\n",
      " 0.08575561 0.08694407 0.09556402 0.10663249 0.11601134 0.11724276\n",
      " 0.1170423  0.10880896 0.10991151 0.10173544 0.10547267 0.10104814\n",
      " 0.09102494 0.09272889 0.09940147 0.09469057 0.10374008 0.11469401\n",
      " 0.11370601 0.10266617 0.1123314  0.09951602 0.09749706 0.08946419\n",
      " 0.07604742 0.08125949 0.06948939 0.0763338  0.07833844 0.07067785\n",
      " 0.06251611 0.06404823 0.05312294 0.07150835 0.08609926 0.0811163\n",
      " 0.08524013 0.10076176 0.0993442  0.11477992 0.12266961 0.11797302\n",
      " 0.11297574 0.11419285 0.11775824 0.10989719 0.10933876 0.11979152\n",
      " 0.13789055 0.11959105 0.11479424 0.11403534 0.11646954 0.14990406\n",
      " 0.14987543 0.15842378 0.15261033 0.14758441 0.16917724 0.16538274\n",
      " 0.16821788 0.18614508 0.19966208 0.19654057 0.17113892 0.17079527\n",
      " 0.16503909 0.14628139 0.1579631  0.1526403  0.15001346 0.14825301\n",
      " 0.14679374 0.14549074 0.14430843 0.1432364  0.14227021 0.14140698\n",
      " 0.14064318 0.13997364 0.13939117 0.13888653 0.13844885 0.13806647\n",
      " 0.13772713 0.13741884 0.13713031 0.13685119 0.13657239 0.13628626\n",
      " 0.1359866  0.13566858 0.13532884 0.13496515]\n",
      "26 day output [[0.13457648]]\n",
      "27 day input [0.07133652 0.08485352 0.0846101  0.09022309 0.07924053 0.08575561\n",
      " 0.08694407 0.09556402 0.10663249 0.11601134 0.11724276 0.1170423\n",
      " 0.10880896 0.10991151 0.10173544 0.10547267 0.10104814 0.09102494\n",
      " 0.09272889 0.09940147 0.09469057 0.10374008 0.11469401 0.11370601\n",
      " 0.10266617 0.1123314  0.09951602 0.09749706 0.08946419 0.07604742\n",
      " 0.08125949 0.06948939 0.0763338  0.07833844 0.07067785 0.06251611\n",
      " 0.06404823 0.05312294 0.07150835 0.08609926 0.0811163  0.08524013\n",
      " 0.10076176 0.0993442  0.11477992 0.12266961 0.11797302 0.11297574\n",
      " 0.11419285 0.11775824 0.10989719 0.10933876 0.11979152 0.13789055\n",
      " 0.11959105 0.11479424 0.11403534 0.11646954 0.14990406 0.14987543\n",
      " 0.15842378 0.15261033 0.14758441 0.16917724 0.16538274 0.16821788\n",
      " 0.18614508 0.19966208 0.19654057 0.17113892 0.17079527 0.16503909\n",
      " 0.14628139 0.1579631  0.1526403  0.15001346 0.14825301 0.14679374\n",
      " 0.14549074 0.14430843 0.1432364  0.14227021 0.14140698 0.14064318\n",
      " 0.13997364 0.13939117 0.13888653 0.13844885 0.13806647 0.13772713\n",
      " 0.13741884 0.13713031 0.13685119 0.13657239 0.13628626 0.1359866\n",
      " 0.13566858 0.13532884 0.13496515 0.13457648]\n",
      "27 day output [[0.13416271]]\n",
      "28 day input [0.08485352 0.0846101  0.09022309 0.07924053 0.08575561 0.08694407\n",
      " 0.09556402 0.10663249 0.11601134 0.11724276 0.1170423  0.10880896\n",
      " 0.10991151 0.10173544 0.10547267 0.10104814 0.09102494 0.09272889\n",
      " 0.09940147 0.09469057 0.10374008 0.11469401 0.11370601 0.10266617\n",
      " 0.1123314  0.09951602 0.09749706 0.08946419 0.07604742 0.08125949\n",
      " 0.06948939 0.0763338  0.07833844 0.07067785 0.06251611 0.06404823\n",
      " 0.05312294 0.07150835 0.08609926 0.0811163  0.08524013 0.10076176\n",
      " 0.0993442  0.11477992 0.12266961 0.11797302 0.11297574 0.11419285\n",
      " 0.11775824 0.10989719 0.10933876 0.11979152 0.13789055 0.11959105\n",
      " 0.11479424 0.11403534 0.11646954 0.14990406 0.14987543 0.15842378\n",
      " 0.15261033 0.14758441 0.16917724 0.16538274 0.16821788 0.18614508\n",
      " 0.19966208 0.19654057 0.17113892 0.17079527 0.16503909 0.14628139\n",
      " 0.1579631  0.1526403  0.15001346 0.14825301 0.14679374 0.14549074\n",
      " 0.14430843 0.1432364  0.14227021 0.14140698 0.14064318 0.13997364\n",
      " 0.13939117 0.13888653 0.13844885 0.13806647 0.13772713 0.13741884\n",
      " 0.13713031 0.13685119 0.13657239 0.13628626 0.1359866  0.13566858\n",
      " 0.13532884 0.13496515 0.13457648 0.13416271]\n",
      "28 day output [[0.13372453]]\n",
      "29 day input [0.0846101  0.09022309 0.07924053 0.08575561 0.08694407 0.09556402\n",
      " 0.10663249 0.11601134 0.11724276 0.1170423  0.10880896 0.10991151\n",
      " 0.10173544 0.10547267 0.10104814 0.09102494 0.09272889 0.09940147\n",
      " 0.09469057 0.10374008 0.11469401 0.11370601 0.10266617 0.1123314\n",
      " 0.09951602 0.09749706 0.08946419 0.07604742 0.08125949 0.06948939\n",
      " 0.0763338  0.07833844 0.07067785 0.06251611 0.06404823 0.05312294\n",
      " 0.07150835 0.08609926 0.0811163  0.08524013 0.10076176 0.0993442\n",
      " 0.11477992 0.12266961 0.11797302 0.11297574 0.11419285 0.11775824\n",
      " 0.10989719 0.10933876 0.11979152 0.13789055 0.11959105 0.11479424\n",
      " 0.11403534 0.11646954 0.14990406 0.14987543 0.15842378 0.15261033\n",
      " 0.14758441 0.16917724 0.16538274 0.16821788 0.18614508 0.19966208\n",
      " 0.19654057 0.17113892 0.17079527 0.16503909 0.14628139 0.1579631\n",
      " 0.1526403  0.15001346 0.14825301 0.14679374 0.14549074 0.14430843\n",
      " 0.1432364  0.14227021 0.14140698 0.14064318 0.13997364 0.13939117\n",
      " 0.13888653 0.13844885 0.13806647 0.13772713 0.13741884 0.13713031\n",
      " 0.13685119 0.13657239 0.13628626 0.1359866  0.13566858 0.13532884\n",
      " 0.13496515 0.13457648 0.13416271 0.13372453]\n",
      "29 day output [[0.13326323]]\n",
      "[[0.1579630970954895], [0.15264029800891876], [0.15001346170902252], [0.14825300872325897], [0.14679373800754547], [0.14549073576927185], [0.1443084329366684], [0.14323639869689941], [0.14227020740509033], [0.14140698313713074], [0.1406431794166565], [0.13997364044189453], [0.13939116895198822], [0.13888652622699738], [0.13844884932041168], [0.13806647062301636], [0.13772712647914886], [0.13741883635520935], [0.13713030517101288], [0.13685119152069092], [0.13657239079475403], [0.13628625869750977], [0.1359865963459015], [0.1356685757637024], [0.13532884418964386], [0.13496515154838562], [0.1345764845609665], [0.13416270911693573], [0.13372452557086945], [0.1332632303237915]]\n"
     ]
    }
   ],
   "source": [
    "# demonstrate prediction for next 10 days\n",
    "from numpy import array\n",
    "\n",
    "lst_output=[]\n",
    "n_steps=100\n",
    "i=0\n",
    "while(i<30):\n",
    "    \n",
    "    if(len(temp_input)>100):\n",
    "        #print(temp_input)\n",
    "        x_input=np.array(temp_input[1:])\n",
    "        print(\"{} day input {}\".format(i,x_input))\n",
    "        x_input=x_input.reshape(1,-1)\n",
    "        x_input = x_input.reshape((1, n_steps, 1))\n",
    "        #print(x_input)\n",
    "        yhat = model.predict(x_input, verbose=0)\n",
    "        print(\"{} day output {}\".format(i,yhat))\n",
    "        temp_input.extend(yhat[0].tolist())\n",
    "        temp_input=temp_input[1:]\n",
    "        #print(temp_input)\n",
    "        lst_output.extend(yhat.tolist())\n",
    "        i=i+1\n",
    "    else:\n",
    "        x_input = x_input.reshape((1, n_steps,1))\n",
    "        yhat = model.predict(x_input, verbose=0)\n",
    "        print(yhat[0])\n",
    "        temp_input.extend(yhat[0].tolist())\n",
    "        print(len(temp_input))\n",
    "        lst_output.extend(yhat.tolist())\n",
    "        i=i+1\n",
    "    \n",
    "\n",
    "print(lst_output)"
   ]
  },
  {
   "cell_type": "code",
   "execution_count": 38,
   "id": "8db6611f",
   "metadata": {},
   "outputs": [],
   "source": [
    "day_new=np.arange(1,101)\n",
    "day_pred=np.arange(101,131)"
   ]
  },
  {
   "cell_type": "code",
   "execution_count": 39,
   "id": "72427ca1",
   "metadata": {},
   "outputs": [
    {
     "data": {
      "text/plain": [
       "2274"
      ]
     },
     "execution_count": 39,
     "metadata": {},
     "output_type": "execute_result"
    }
   ],
   "source": [
    "len(df1)"
   ]
  },
  {
   "cell_type": "code",
   "execution_count": 41,
   "id": "d336896d",
   "metadata": {},
   "outputs": [
    {
     "data": {
      "text/plain": [
       "[<matplotlib.lines.Line2D at 0x1fbaf392fe0>]"
      ]
     },
     "execution_count": 41,
     "metadata": {},
     "output_type": "execute_result"
    },
    {
     "data": {
      "image/png": "[encoded data removed]",
      "text/plain": [
       "<Figure size 640x480 with 1 Axes>"
      ]
     },
     "metadata": {},
     "output_type": "display_data"
    }
   ],
   "source": [
    "plt.plot(day_new,scaler.inverse_transform(df1[2174:]))\n",
    "plt.plot(day_pred,scaler.inverse_transform(lst_output))"
   ]
  },
  {
   "cell_type": "code",
   "execution_count": 42,
   "id": "b74c8260",
   "metadata": {},
   "outputs": [
    {
     "data": {
      "text/plain": [
       "[<matplotlib.lines.Line2D at 0x1fbaf448280>]"
      ]
     },
     "execution_count": 42,
     "metadata": {},
     "output_type": "execute_result"
    },
    {
     "data": {
      "image/png": "[encoded data removed]",
      "text/plain": [
       "<Figure size 640x480 with 1 Axes>"
      ]
     },
     "metadata": {},
     "output_type": "display_data"
    }
   ],
   "source": [
    "df3=df1.tolist()\n",
    "df3.extend(lst_output)\n",
    "plt.plot(df3[2200:])"
   ]
  },
  {
   "cell_type": "code",
   "execution_count": 43,
   "id": "24942754",
   "metadata": {},
   "outputs": [],
   "source": [
    "df3=scaler.inverse_transform(df3).tolist()"
   ]
  },
  {
   "cell_type": "code",
   "execution_count": 44,
   "id": "504ed3ac",
   "metadata": {},
   "outputs": [
    {
     "data": {
      "text/plain": [
       "[<matplotlib.lines.Line2D at 0x1fbaf3fa290>]"
      ]
     },
     "execution_count": 44,
     "metadata": {},
     "output_type": "execute_result"
    },
    {
     "data": {
      "image/png": "[encoded data removed]",
      "text/plain": [
       "<Figure size 640x480 with 1 Axes>"
      ]
     },
     "metadata": {},
     "output_type": "display_data"
    }
   ],
   "source": [
    "plt.plot(df3)"
   ]
  },
  {
   "cell_type": "code",
   "execution_count": null,
   "id": "c13185b1",
   "metadata": {},
   "outputs": [],
   "source": []
  }
 ],
 "metadata": {
  "kernelspec": {
   "display_name": "Python 3 (ipykernel)",
   "language": "python",
   "name": "python3"
  },
  "language_info": {
   "codemirror_mode": {
    "name": "ipython",
    "version": 3
   },
   "file_extension": ".py",
   "mimetype": "text/x-python",
   "name": "python",
   "nbconvert_exporter": "python",
   "pygments_lexer": "ipython3",
   "version": "3.10.9"
  }
 },
 "nbformat": 4,
 "nbformat_minor": 5
}
